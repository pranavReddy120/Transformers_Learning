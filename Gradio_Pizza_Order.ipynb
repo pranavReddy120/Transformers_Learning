{
 "cells": [
  {
   "cell_type": "code",
   "execution_count": 1,
   "metadata": {
    "id": "6BGLBBrxkoRo"
   },
   "outputs": [
    {
     "name": "stderr",
     "output_type": "stream",
     "text": [
      "/Users/pranavreddy/anaconda3/envs/dev/lib/python3.9/site-packages/tqdm/auto.py:21: TqdmWarning: IProgress not found. Please update jupyter and ipywidgets. See https://ipywidgets.readthedocs.io/en/stable/user_install.html\n",
      "  from .autonotebook import tqdm as notebook_tqdm\n"
     ]
    }
   ],
   "source": [
    "import gradio as gr"
   ]
  },
  {
   "cell_type": "code",
   "execution_count": 3,
   "metadata": {},
   "outputs": [
    {
     "name": "stdout",
     "output_type": "stream",
     "text": [
      "Running on local URL:  http://127.0.0.1:7864\n",
      "Running on public URL: https://a15c010b3ea34f3b12.gradio.live\n",
      "\n",
      "This share link expires in 72 hours. For free permanent hosting and GPU upgrades, run `gradio deploy` from Terminal to deploy to Spaces (https://huggingface.co/spaces)\n"
     ]
    },
    {
     "data": {
      "text/html": [
       "<div><iframe src=\"https://a15c010b3ea34f3b12.gradio.live\" width=\"100%\" height=\"500\" allow=\"autoplay; camera; microphone; clipboard-read; clipboard-write;\" frameborder=\"0\" allowfullscreen></iframe></div>"
      ],
      "text/plain": [
       "<IPython.core.display.HTML object>"
      ]
     },
     "metadata": {},
     "output_type": "display_data"
    },
    {
     "data": {
      "text/plain": []
     },
     "execution_count": 3,
     "metadata": {},
     "output_type": "execute_result"
    },
    {
     "name": "stderr",
     "output_type": "stream",
     "text": [
      "Traceback (most recent call last):\n",
      "  File \"/Users/pranavreddy/anaconda3/envs/dev/lib/python3.9/site-packages/gradio/queueing.py\", line 536, in process_events\n",
      "    response = await route_utils.call_process_api(\n",
      "  File \"/Users/pranavreddy/anaconda3/envs/dev/lib/python3.9/site-packages/gradio/route_utils.py\", line 322, in call_process_api\n",
      "    output = await app.get_blocks().process_api(\n",
      "  File \"/Users/pranavreddy/anaconda3/envs/dev/lib/python3.9/site-packages/gradio/blocks.py\", line 1935, in process_api\n",
      "    result = await self.call_function(\n",
      "  File \"/Users/pranavreddy/anaconda3/envs/dev/lib/python3.9/site-packages/gradio/blocks.py\", line 1520, in call_function\n",
      "    prediction = await anyio.to_thread.run_sync(  # type: ignore\n",
      "  File \"/Users/pranavreddy/anaconda3/envs/dev/lib/python3.9/site-packages/anyio/to_thread.py\", line 56, in run_sync\n",
      "    return await get_async_backend().run_sync_in_worker_thread(\n",
      "  File \"/Users/pranavreddy/anaconda3/envs/dev/lib/python3.9/site-packages/anyio/_backends/_asyncio.py\", line 2177, in run_sync_in_worker_thread\n",
      "    return await future\n",
      "  File \"/Users/pranavreddy/anaconda3/envs/dev/lib/python3.9/site-packages/anyio/_backends/_asyncio.py\", line 859, in run\n",
      "    result = context.run(func, *args)\n",
      "  File \"/Users/pranavreddy/anaconda3/envs/dev/lib/python3.9/site-packages/gradio/utils.py\", line 826, in wrapper\n",
      "    response = f(*args, **kwargs)\n",
      "  File \"/var/folders/_2/l8w7jbcj3270yyzbv4h1tfvh0000gn/T/ipykernel_6918/1510056171.py\", line 19, in pizza_order\n",
      "    total_cost = price + price*.13\n",
      "UnboundLocalError: local variable 'price' referenced before assignment\n"
     ]
    }
   ],
   "source": [
    "# Create a pizza order function that takes \n",
    "# the size of the pizza and up to three toppings, and returns the price of the pizza with tax. \n",
    "def pizza_order(size, topping_1, topping_2, topping_3):\n",
    "    \n",
    "    if size.lower() == \"large\": \n",
    "        price = 25.99\n",
    "    elif size.lower() == \"medium\": \n",
    "        price = 19.99\n",
    "    elif size.lower() == \"small\": \n",
    "        price = 14.99\n",
    "    \n",
    "    if topping_1: \n",
    "        price += 1.99\n",
    "    if topping_2: \n",
    "        price += 1.99\n",
    "    if topping_3: \n",
    "        price += 1.99\n",
    "    \n",
    "    total_cost = price + price*.13\n",
    "    return f\"The total cost after tax of this order is: {total_cost:.2f}\"\n",
    "        \n",
    "# Create an instance of the gradio Interface application function with parameters. \n",
    "app = gr.Interface(fn=pizza_order, inputs=['text', 'text', 'text', 'text'], outputs='text')\n",
    "\n",
    "# Launch the app\n",
    "app.launch(share=True)"
   ]
  },
  {
   "cell_type": "code",
   "execution_count": null,
   "metadata": {},
   "outputs": [],
   "source": []
  }
 ],
 "metadata": {
  "colab": {
   "authorship_tag": "ABX9TyMgmf1Udn3kIgZX4dfAQG/i",
   "provenance": []
  },
  "kernelspec": {
   "display_name": "Python 3.9.17 ('dev')",
   "language": "python",
   "name": "python3"
  },
  "language_info": {
   "codemirror_mode": {
    "name": "ipython",
    "version": 3
   },
   "file_extension": ".py",
   "mimetype": "text/x-python",
   "name": "python",
   "nbconvert_exporter": "python",
   "pygments_lexer": "ipython3",
   "version": "3.9.17"
  },
  "vscode": {
   "interpreter": {
    "hash": "caeb93e0c684d3bd81d88b6578a6aeba546c7425658c4217d79fa0d92d9f2865"
   }
  }
 },
 "nbformat": 4,
 "nbformat_minor": 1
}
